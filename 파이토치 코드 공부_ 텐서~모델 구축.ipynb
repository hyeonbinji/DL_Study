{
 "cells": [
  {
   "cell_type": "markdown",
   "id": "fb0a3bda",
   "metadata": {},
   "source": [
    "# 파이토치 기본 - 텐서"
   ]
  },
  {
   "cell_type": "code",
   "execution_count": 1,
   "id": "8fa08da5",
   "metadata": {},
   "outputs": [
    {
     "name": "stdout",
     "output_type": "stream",
     "text": [
      "tensor([[1.5444e+25, 1.6217e-19, 7.0062e+22, 1.6795e+08],\n",
      "        [4.7423e+30, 4.7393e+30, 9.5461e-01, 4.4377e+27],\n",
      "        [1.7975e+19, 4.6894e+27, 7.9463e+08, 3.2604e-12],\n",
      "        [2.6209e+20, 4.1641e+12, 1.9434e-19, 3.0881e+29],\n",
      "        [6.3828e+28, 1.4603e-19, 7.7179e+28, 7.7591e+26]])\n"
     ]
    }
   ],
   "source": [
    "import torch\n",
    "import numpy as np\n",
    "\n",
    "x = torch.empty(5,4) #5x4인 빈 텐서 생성\n",
    "print(x)"
   ]
  },
  {
   "cell_type": "code",
   "execution_count": 2,
   "id": "17d9add7",
   "metadata": {},
   "outputs": [
    {
     "data": {
      "text/plain": [
       "tensor([[1., 1., 1.],\n",
       "        [1., 1., 1.],\n",
       "        [1., 1., 1.]])"
      ]
     },
     "execution_count": 2,
     "metadata": {},
     "output_type": "execute_result"
    }
   ],
   "source": [
    "torch.ones(3,3)"
   ]
  },
  {
   "cell_type": "code",
   "execution_count": 3,
   "id": "6fb9b9a1",
   "metadata": {},
   "outputs": [
    {
     "data": {
      "text/plain": [
       "tensor([[0.7647, 0.8334, 0.3475, 0.1174, 0.2105, 0.2956],\n",
       "        [0.6141, 0.0162, 0.5585, 0.7545, 0.7722, 0.5259],\n",
       "        [0.3234, 0.4119, 0.5167, 0.4395, 0.9945, 0.2556],\n",
       "        [0.5006, 0.4589, 0.7413, 0.8730, 0.3398, 0.7368],\n",
       "        [0.7503, 0.1365, 0.3600, 0.5081, 0.1621, 0.8800]])"
      ]
     },
     "execution_count": 3,
     "metadata": {},
     "output_type": "execute_result"
    }
   ],
   "source": [
    "torch.rand(5,6)"
   ]
  },
  {
   "cell_type": "markdown",
   "id": "9d979d50",
   "metadata": {},
   "source": [
    "리스트 넘파이 배열을 텐서로 만들기: torch.tensor()"
   ]
  },
  {
   "cell_type": "code",
   "execution_count": 6,
   "id": "ec1d0969",
   "metadata": {},
   "outputs": [
    {
     "data": {
      "text/plain": [
       "tensor([13,  4])"
      ]
     },
     "execution_count": 6,
     "metadata": {},
     "output_type": "execute_result"
    }
   ],
   "source": [
    "ls = [13,4]\n",
    "r = np.array([4,56,7])\n",
    "torch.tensor(ls)"
   ]
  },
  {
   "cell_type": "code",
   "execution_count": 7,
   "id": "cc21141d",
   "metadata": {},
   "outputs": [
    {
     "data": {
      "text/plain": [
       "tensor([ 4, 56,  7])"
      ]
     },
     "execution_count": 7,
     "metadata": {},
     "output_type": "execute_result"
    }
   ],
   "source": [
    "torch.tensor(r)"
   ]
  },
  {
   "cell_type": "markdown",
   "id": "ace51626",
   "metadata": {},
   "source": [
    "텐서의 크기 타입 연산 "
   ]
  },
  {
   "cell_type": "code",
   "execution_count": 8,
   "id": "8148f433",
   "metadata": {},
   "outputs": [
    {
     "data": {
      "text/plain": [
       "torch.Size([5, 4])"
      ]
     },
     "execution_count": 8,
     "metadata": {},
     "output_type": "execute_result"
    }
   ],
   "source": [
    "x.size()"
   ]
  },
  {
   "cell_type": "code",
   "execution_count": 13,
   "id": "36b54c23",
   "metadata": {},
   "outputs": [
    {
     "data": {
      "text/plain": [
       "2"
      ]
     },
     "execution_count": 13,
     "metadata": {},
     "output_type": "execute_result"
    }
   ],
   "source": [
    "x.size()[1]"
   ]
  },
  {
   "cell_type": "code",
   "execution_count": 10,
   "id": "c64bf121",
   "metadata": {},
   "outputs": [
    {
     "data": {
      "text/plain": [
       "torch.Tensor"
      ]
     },
     "execution_count": 10,
     "metadata": {},
     "output_type": "execute_result"
    }
   ],
   "source": [
    "type(x)"
   ]
  },
  {
   "cell_type": "code",
   "execution_count": 11,
   "id": "ae5a5152",
   "metadata": {},
   "outputs": [
    {
     "data": {
      "text/plain": [
       "tensor([[0.4154, 1.1977],\n",
       "        [0.5112, 1.2364]])"
      ]
     },
     "execution_count": 11,
     "metadata": {},
     "output_type": "execute_result"
    }
   ],
   "source": [
    "x = torch.rand(2,2)\n",
    "y = torch.rand(2,2)\n",
    "y.add(x)"
   ]
  },
  {
   "cell_type": "code",
   "execution_count": 12,
   "id": "9f2d8e32",
   "metadata": {},
   "outputs": [
    {
     "data": {
      "text/plain": [
       "tensor([[0.4154, 1.1977],\n",
       "        [0.5112, 1.2364]])"
      ]
     },
     "execution_count": 12,
     "metadata": {},
     "output_type": "execute_result"
    }
   ],
   "source": [
    "y.add_(x)\n",
    "#y에 inplace"
   ]
  },
  {
   "cell_type": "markdown",
   "id": "afea3711",
   "metadata": {},
   "source": [
    "텐서의 크기 변환"
   ]
  },
  {
   "cell_type": "code",
   "execution_count": 14,
   "id": "1dee805a",
   "metadata": {},
   "outputs": [
    {
     "name": "stdout",
     "output_type": "stream",
     "text": [
      "torch.Size([8, 8])\n"
     ]
    }
   ],
   "source": [
    "x = torch.rand(8,8)\n",
    "print(x.size())"
   ]
  },
  {
   "cell_type": "code",
   "execution_count": 15,
   "id": "252c6f8c",
   "metadata": {},
   "outputs": [
    {
     "name": "stdout",
     "output_type": "stream",
     "text": [
      "torch.Size([64])\n"
     ]
    }
   ],
   "source": [
    "a = x.view(64) #view: 크기 바꿔줌\n",
    "print(a.size())"
   ]
  },
  {
   "cell_type": "code",
   "execution_count": 16,
   "id": "976a44ce",
   "metadata": {},
   "outputs": [
    {
     "name": "stdout",
     "output_type": "stream",
     "text": [
      "torch.Size([4, 4, 4])\n"
     ]
    }
   ],
   "source": [
    "b = x.view(-1,4,4) #-1은 원래 크기가 되게 하는 값, 즉 4이다\n",
    "print(b.size())"
   ]
  },
  {
   "cell_type": "markdown",
   "id": "68c7f77a",
   "metadata": {},
   "source": [
    "## 역전파"
   ]
  },
  {
   "cell_type": "code",
   "execution_count": 17,
   "id": "842dc88e",
   "metadata": {},
   "outputs": [
    {
     "name": "stdout",
     "output_type": "stream",
     "text": [
      "tensor(8., grad_fn=<MeanBackward0>)\n"
     ]
    }
   ],
   "source": [
    "import torch\n",
    "x=torch.ones(2,2,requires_grad=True) #require_grad: 해당 텐서 기준으로 모든 연산 추적해 그래디언트 계산\n",
    "y=x+1\n",
    "z = 2*y**2\n",
    "r = z.mean()\n",
    "print(r)"
   ]
  },
  {
   "cell_type": "code",
   "execution_count": 18,
   "id": "9eafbe44",
   "metadata": {},
   "outputs": [],
   "source": [
    "r.backward()"
   ]
  },
  {
   "cell_type": "code",
   "execution_count": 19,
   "id": "c84de094",
   "metadata": {},
   "outputs": [
    {
     "name": "stdout",
     "output_type": "stream",
     "text": [
      "tensor([[2., 2.],\n",
      "        [2., 2.]])\n"
     ]
    }
   ],
   "source": [
    "print(x.grad) #dr/dx: r을 x로 미분한 값"
   ]
  },
  {
   "cell_type": "code",
   "execution_count": 20,
   "id": "13b26b67",
   "metadata": {},
   "outputs": [
    {
     "data": {
      "text/plain": [
       "tensor([[1., 1.],\n",
       "        [1., 1.]], requires_grad=True)"
      ]
     },
     "execution_count": 20,
     "metadata": {},
     "output_type": "execute_result"
    }
   ],
   "source": [
    "x"
   ]
  },
  {
   "cell_type": "markdown",
   "id": "802d162b",
   "metadata": {},
   "source": [
    "## 자동미분: 선형회귀식"
   ]
  },
  {
   "cell_type": "code",
   "execution_count": 22,
   "id": "8acc5cf5",
   "metadata": {},
   "outputs": [
    {
     "name": "stdout",
     "output_type": "stream",
     "text": [
      "1\n"
     ]
    }
   ],
   "source": [
    "#varialbe 사용하지 않고 tensor 바로 사용해서 자동미분\n",
    "from matplotlib import pyplot as plt\n",
    "x = torch.FloatTensor(range(5)).unsqueeze(1) #원래 크기는 1차원인 torch.Size(5) 여서 행렬 계산을 위해 2차원 배열로 만들어준다.\n",
    "#unsqueeze(1)은 1번째 위치의 차원을 늘려주는 역할을 한다. 즉 toch(5,1)의 사이즈를 가진다\n",
    "y = 2*x + torch.rand(5,1)\n",
    "num_features = x.shape[1]\n",
    "print(num_features) #인스턴스의 개수가 5개, 피처의 개수 1개"
   ]
  },
  {
   "cell_type": "code",
   "execution_count": 23,
   "id": "7aa9e7b5",
   "metadata": {},
   "outputs": [],
   "source": [
    "w = torch.randn(num_features,1,requires_grad = True)\n",
    "# y = xw + b\n",
    "# w는 5x1의 데이터아 곱할 수 있어야 하고 예측값이 하나로 나와야해서 크기가 1x1인 배열로 정의한다\n",
    "b = torch.randn(1,requires_grad = True)"
   ]
  },
  {
   "cell_type": "code",
   "execution_count": 24,
   "id": "f920fc73",
   "metadata": {},
   "outputs": [
    {
     "name": "stdout",
     "output_type": "stream",
     "text": [
      "Epoch 0:59.15520095825195\n",
      "Epoch 1:57.58098602294922\n",
      "Epoch 2:56.048683166503906\n",
      "Epoch 3:54.55718994140625\n",
      "Epoch 8:47.67464828491211\n",
      "Epoch 9:46.40612030029297\n",
      "Epoch 10:45.171363830566406\n",
      "Epoch 11:43.969482421875\n",
      "Epoch 16:38.42340087890625\n",
      "Epoch 17:37.40119552612305\n",
      "Epoch 18:36.40620803833008\n",
      "Epoch 19:35.437705993652344\n",
      "Epoch 24:30.968563079833984\n",
      "Epoch 25:30.144847869873047\n",
      "Epoch 26:29.343067169189453\n",
      "Epoch 27:28.5626277923584\n",
      "Epoch 128:1.899784803390503\n",
      "Epoch 129:1.8500083684921265\n",
      "Epoch 130:1.8015568256378174\n",
      "Epoch 131:1.7543939352035522\n",
      "Epoch 136:1.5367558002471924\n",
      "Epoch 137:1.496640682220459\n",
      "Epoch 138:1.4575932025909424\n",
      "Epoch 139:1.4195845127105713\n",
      "Epoch 144:1.2441866397857666\n",
      "Epoch 145:1.2118571996688843\n",
      "Epoch 146:1.1803885698318481\n",
      "Epoch 147:1.1497565507888794\n",
      "Epoch 152:1.0083978176116943\n",
      "Epoch 153:0.9823415875434875\n",
      "Epoch 154:0.9569793939590454\n",
      "Epoch 155:0.9322913289070129\n",
      "Epoch 256:0.08757089078426361\n",
      "Epoch 257:0.0859789103269577\n",
      "Epoch 258:0.0844288021326065\n",
      "Epoch 259:0.08291951566934586\n",
      "Epoch 264:0.0759478434920311\n",
      "Epoch 265:0.07466135919094086\n",
      "Epoch 266:0.07340860366821289\n",
      "Epoch 267:0.07218887656927109\n",
      "Epoch 272:0.06655283272266388\n",
      "Epoch 273:0.06551271677017212\n",
      "Epoch 274:0.06449979543685913\n",
      "Epoch 275:0.06351320445537567\n",
      "Epoch 280:0.05895422026515007\n",
      "Epoch 281:0.05811261385679245\n",
      "Epoch 282:0.057292889803647995\n",
      "Epoch 283:0.056494373828172684\n",
      "Epoch 384:0.028070801869034767\n",
      "Epoch 385:0.028004441410303116\n",
      "Epoch 386:0.02793937548995018\n",
      "Epoch 387:0.027875671163201332\n",
      "Epoch 392:0.02757546864449978\n",
      "Epoch 393:0.027518903836607933\n",
      "Epoch 394:0.02746339701116085\n",
      "Epoch 395:0.027408968657255173\n",
      "Epoch 400:0.02715185657143593\n",
      "Epoch 401:0.027103155851364136\n",
      "Epoch 402:0.02705543115735054\n",
      "Epoch 403:0.027008483186364174\n",
      "Epoch 408:0.02678609825670719\n",
      "Epoch 409:0.02674388885498047\n",
      "Epoch 410:0.026702340692281723\n",
      "Epoch 411:0.026661548763513565\n",
      "Epoch 512:0.024282488971948624\n",
      "Epoch 513:0.024266690015792847\n",
      "Epoch 514:0.024250786751508713\n",
      "Epoch 515:0.024235067889094353\n",
      "Epoch 520:0.024157045409083366\n",
      "Epoch 521:0.024141613394021988\n",
      "Epoch 522:0.024126220494508743\n",
      "Epoch 523:0.024110864847898483\n",
      "Epoch 528:0.024034889414906502\n",
      "Epoch 529:0.024019844830036163\n",
      "Epoch 530:0.024004783481359482\n",
      "Epoch 531:0.023989854380488396\n",
      "Epoch 536:0.023915531113743782\n",
      "Epoch 537:0.02390083111822605\n",
      "Epoch 538:0.02388611249625683\n",
      "Epoch 539:0.02387147583067417\n",
      "Epoch 640:0.022525470703840256\n",
      "Epoch 641:0.022513126954436302\n",
      "Epoch 642:0.02250082418322563\n",
      "Epoch 643:0.022488513961434364\n",
      "Epoch 648:0.022427193820476532\n",
      "Epoch 649:0.022415002807974815\n",
      "Epoch 650:0.022402839735150337\n",
      "Epoch 651:0.02239067107439041\n",
      "Epoch 656:0.02232997491955757\n",
      "Epoch 657:0.022317886352539062\n",
      "Epoch 658:0.022305773571133614\n",
      "Epoch 659:0.022293820977211\n",
      "Epoch 664:0.022233759984374046\n",
      "Epoch 665:0.022221721708774567\n",
      "Epoch 666:0.022209763526916504\n",
      "Epoch 667:0.022197872400283813\n",
      "Epoch 768:0.02106449380517006\n",
      "Epoch 769:0.021053949370980263\n",
      "Epoch 770:0.021043427288532257\n",
      "Epoch 771:0.02103291265666485\n",
      "Epoch 776:0.020980484783649445\n",
      "Epoch 777:0.020970072597265244\n",
      "Epoch 778:0.020959611982107162\n",
      "Epoch 779:0.020949233323335648\n",
      "Epoch 784:0.02089732699096203\n",
      "Epoch 785:0.020886976271867752\n",
      "Epoch 786:0.020876649767160416\n",
      "Epoch 787:0.020866382867097855\n",
      "Epoch 792:0.0208149254322052\n",
      "Epoch 793:0.02080470696091652\n",
      "Epoch 794:0.020794440060853958\n",
      "Epoch 795:0.020784184336662292\n",
      "Epoch 896:0.019812321290373802\n",
      "Epoch 897:0.019803233444690704\n",
      "Epoch 898:0.019794197753071785\n",
      "Epoch 899:0.019785169512033463\n",
      "Epoch 904:0.019740181043744087\n",
      "Epoch 905:0.01973126456141472\n",
      "Epoch 906:0.01972227729856968\n",
      "Epoch 907:0.01971331425011158\n",
      "Epoch 912:0.019668761640787125\n",
      "Epoch 913:0.019659942016005516\n",
      "Epoch 914:0.01965104043483734\n",
      "Epoch 915:0.019642183557152748\n",
      "Epoch 920:0.019598064944148064\n",
      "Epoch 921:0.019589250907301903\n",
      "Epoch 922:0.019580470398068428\n",
      "Epoch 923:0.01957174949347973\n"
     ]
    }
   ],
   "source": [
    "#w와 b를 찾는것이 목적이다\n",
    "#SGD 사용해보자\n",
    "learning_rate = 1e-3\n",
    "optimizer = torch.optim.SGD([w,b],lr=learning_rate)\n",
    "\n",
    "loss_stack = [] #매 epoch마다 손실함수값 저장\n",
    "for epoch in range(1001):\n",
    "    \n",
    "    optimizer.zero_grad()#optimizer초기화\n",
    "    y_hat = torch.matmul(x,w) + b #예측\n",
    "    loss = torch.mean((y_hat-y)**2)\n",
    "    loss.backward() \n",
    "    optimizer.step() #최적화 진행\n",
    "    loss_stack.append(loss.item()) #손실함수값을 loss_stack에 하나씩 넣는다.\n",
    "    \n",
    "    if epoch & 100 ==0:\n",
    "        print(f'Epoch {epoch}:{loss.item()}')"
   ]
  },
  {
   "cell_type": "code",
   "execution_count": 25,
   "id": "c48085e6",
   "metadata": {},
   "outputs": [],
   "source": [
    "with torch.no_grad(): #구문에 있는 requires_grad 작동하지 않는다\n",
    "    y_hat = torch.matmul(x,w) + b"
   ]
  },
  {
   "cell_type": "code",
   "execution_count": 26,
   "id": "00a38b17",
   "metadata": {},
   "outputs": [
    {
     "data": {
      "text/plain": [
       "[<matplotlib.lines.Line2D at 0x7fb5f331f190>]"
      ]
     },
     "execution_count": 26,
     "metadata": {},
     "output_type": "execute_result"
    },
    {
     "data": {
      "image/png": "[encoded data removed]",
      "text/plain": [
       "<Figure size 432x288 with 1 Axes>"
      ]
     },
     "metadata": {
      "needs_background": "light"
     },
     "output_type": "display_data"
    }
   ],
   "source": [
    "plt.plot(loss_stack)"
   ]
  },
  {
   "cell_type": "code",
   "execution_count": 29,
   "id": "d7ca7212",
   "metadata": {},
   "outputs": [
    {
     "data": {
      "image/png": "[encoded data removed]",
      "text/plain": [
       "<Figure size 432x288 with 1 Axes>"
      ]
     },
     "metadata": {
      "needs_background": "light"
     },
     "output_type": "display_data"
    }
   ],
   "source": [
    "plt.plot(x,y,'b')\n",
    "plt.plot(x,y_hat,'r')\n",
    "plt.show()"
   ]
  },
  {
   "cell_type": "markdown",
   "id": "1e6b05b6",
   "metadata": {},
   "source": [
    "## 데이터 불러오기"
   ]
  },
  {
   "cell_type": "code",
   "execution_count": 55,
   "id": "c150b717",
   "metadata": {},
   "outputs": [],
   "source": [
    "import torch \n",
    "import torchvision\n",
    "import torchvision.transforms as tr\n",
    "from torch.utils.data import DataLoader,Dataset\n",
    "import numpy as np\n",
    "import matplotlib.pyplot as plt"
   ]
  },
  {
   "cell_type": "code",
   "execution_count": 58,
   "id": "cacab510",
   "metadata": {},
   "outputs": [
    {
     "name": "stdout",
     "output_type": "stream",
     "text": [
      "Files already downloaded and verified\n"
     ]
    }
   ],
   "source": [
    "transf = tr.Compose([tr.Resize(16),tr.ToTensor()]) # tr.compose내에 원하는 전처리 차례대로 넣어준다\n",
    "trainset = torchvision.datasets.CIFAR10(root='./data',train=True,download=True,transform=transf) #학습 데이터 불러오기\n",
    "testset = torchvision.datasets.CIFAR10(root='./data',train=True,download=False,transform=transf) #테스트 데이터 불러오기"
   ]
  },
  {
   "cell_type": "code",
   "execution_count": 61,
   "id": "249ccb1d",
   "metadata": {},
   "outputs": [
    {
     "name": "stdout",
     "output_type": "stream",
     "text": [
      "torch.Size([3, 16, 16])\n"
     ]
    }
   ],
   "source": [
    "print(trainset[0][0].size())\n",
    "\n",
    "#데이터셋은 이미지와 라벨이 동시에 들어가있는 튜플형태\n",
    "#trainset[0]은 학습데이터의 첫번쨰 데이터로 이미지 한장 + 라벨숫자 한장\n",
    "#즉 trainset[0][0]은 이미지, trainset[0][1]은 라벨\n",
    "# 3x16x16에서 3은 채널 수, 16x16은 이미지의 너비와 높이 의미"
   ]
  },
  {
   "cell_type": "code",
   "execution_count": 63,
   "id": "f7e32cb5",
   "metadata": {},
   "outputs": [],
   "source": [
    "trainloader = DataLoader(trainset,batch_size=50,shuffle=True)\n",
    "testloader = DataLoader(testset,batch_size=50,shuffle=False)\n",
    "#DataLoader은 데이터를 미니배치 사이즈로 만들어준다"
   ]
  },
  {
   "cell_type": "code",
   "execution_count": 64,
   "id": "021f8ff7",
   "metadata": {},
   "outputs": [
    {
     "data": {
      "text/plain": [
       "1000"
      ]
     },
     "execution_count": 64,
     "metadata": {},
     "output_type": "execute_result"
    }
   ],
   "source": [
    "len(trainloader)"
   ]
  },
  {
   "cell_type": "code",
   "execution_count": 66,
   "id": "9b412ae7",
   "metadata": {},
   "outputs": [
    {
     "name": "stdout",
     "output_type": "stream",
     "text": [
      "torch.Size([50, 3, 16, 16])\n"
     ]
    }
   ],
   "source": [
    "images,labels = iter(trainloader).next()\n",
    "print(images.size()) #배치 하나에 50개의 이미지가 잘 들어가있음"
   ]
  },
  {
   "cell_type": "code",
   "execution_count": 68,
   "id": "d0622764",
   "metadata": {},
   "outputs": [
    {
     "data": {
      "image/png": "[encoded data removed]",
      "text/plain": [
       "<Figure size 144x144 with 1 Axes>"
      ]
     },
     "metadata": {
      "needs_background": "light"
     },
     "output_type": "display_data"
    }
   ],
   "source": [
    "oneshot = images[1].permute(1,2,0).numpy() #pernute는 기존 차원의 위치 0,1,2를 1,2,0으로 변환\n",
    "#0번째의 크기가 3인 텐서를 마지막으로 보낸다\n",
    "plt.figure(figsize=(2,2))\n",
    "plt.imshow(oneshot)\n",
    "plt.axis='off'\n",
    "plt.show()"
   ]
  },
  {
   "cell_type": "markdown",
   "id": "03df6de0",
   "metadata": {},
   "source": [
    "### 정리되지 않은 커스텀 데이터 불러오기"
   ]
  },
  {
   "cell_type": "code",
   "execution_count": null,
   "id": "55164f05",
   "metadata": {},
   "outputs": [],
   "source": [
    "#라벨별로 폴더 정리가 되어있지 않은 경우가 많다\n",
    "# 다른 작업들과 공유된 데이터는 폴더정리가 어렵다\n",
    "#이미지 데이터라도 텍스트, 리스트 등의 다른 형태로 저장되어 있는 경우도 있다. "
   ]
  },
  {
   "cell_type": "code",
   "execution_count": 75,
   "id": "fb86952b",
   "metadata": {},
   "outputs": [],
   "source": [
    "#케스텀 데이터 세트 예시: 현재 32x32크기인 RGB 이미지 100장과 그에대한 라벨 + 넘파이 배열로 정리가 되어 있다고 한다.\n",
    "train_images = np.random.randint(256,size=(100,32,32,3))/255\n",
    "train_labels = np.random.randint(2,size=(100,1))\n",
    "\n",
    "class TensorData(Dataset):\n",
    "    def __init__(self,x_data,y_data):\n",
    "        self.x_data = torch.FloatTensor(x_data)\n",
    "        self.x_data = self.x_data.permute(0,3,1,2)\n",
    "        self.y_data = torch.LongTensor(y_data)\n",
    "        self.len = self.y_data.shape[0]\n",
    "        \n",
    "    def __getitem__(self,index): #인덱스에 해당하는 샘플 찾아서 준다\n",
    "        return self.x_data[index],self.y_data[index]\n",
    "    \n",
    "    def __len__(self):\n",
    "        return self.len"
   ]
  },
  {
   "cell_type": "code",
   "execution_count": 76,
   "id": "d7087142",
   "metadata": {},
   "outputs": [],
   "source": [
    "train_data = TensorData(train_images,train_labels)\n",
    "train_loader = DataLoader(train_data,batch_size = 10, shuffle = True)"
   ]
  },
  {
   "cell_type": "code",
   "execution_count": null,
   "id": "9a384d75",
   "metadata": {},
   "outputs": [],
   "source": []
  },
  {
   "cell_type": "code",
   "execution_count": null,
   "id": "badcb4f3",
   "metadata": {},
   "outputs": [],
   "source": []
  },
  {
   "cell_type": "code",
   "execution_count": null,
   "id": "648baa5c",
   "metadata": {},
   "outputs": [],
   "source": []
  },
  {
   "cell_type": "code",
   "execution_count": null,
   "id": "5340f8ad",
   "metadata": {},
   "outputs": [],
   "source": []
  },
  {
   "cell_type": "code",
   "execution_count": null,
   "id": "97b48bde",
   "metadata": {},
   "outputs": [],
   "source": []
  },
  {
   "cell_type": "code",
   "execution_count": null,
   "id": "2ffdd1f5",
   "metadata": {},
   "outputs": [],
   "source": []
  },
  {
   "cell_type": "markdown",
   "id": "4084e206",
   "metadata": {},
   "source": [
    "# 인공 신경망"
   ]
  },
  {
   "cell_type": "markdown",
   "id": "b487f2d6",
   "metadata": {},
   "source": [
    "## 다층 퍼셉트론"
   ]
  },
  {
   "cell_type": "code",
   "execution_count": 30,
   "id": "c98dc758",
   "metadata": {},
   "outputs": [],
   "source": [
    "x = torch.FloatTensor(range(5)).unsqueeze(1) \n",
    "y = 2*x + torch.rand(5,1)"
   ]
  },
  {
   "cell_type": "code",
   "execution_count": 37,
   "id": "bc01acf5",
   "metadata": {},
   "outputs": [],
   "source": [
    "import torch.nn as nn\n",
    "class LinearRegressor(nn.Module):\n",
    "    def __init__(self):\n",
    "        super().__init__()\n",
    "        self.fc = nn.Linear(1,1,bias = True) #nn.Linear(N,M,bias): N: 입력변수 개수, M: 출력변수 개수, \n",
    "        \n",
    "    def forward(self,x):\n",
    "        y = self.fc(x)"
   ]
  },
  {
   "cell_type": "code",
   "execution_count": 38,
   "id": "dc180f84",
   "metadata": {},
   "outputs": [],
   "source": [
    "model = LinearRegressor()\n",
    "learning_rate = 1e-3\n",
    "criterion = nn.MSELoss()\n",
    "optimizer = torch.optim.SGD(model.parameters(),lr=learning_rate) #최적화 방법에 모델 파라미터 넣어주는 방법"
   ]
  },
  {
   "cell_type": "code",
   "execution_count": 42,
   "id": "8d5e8009",
   "metadata": {},
   "outputs": [
    {
     "ename": "AttributeError",
     "evalue": "'NoneType' object has no attribute 'size'",
     "output_type": "error",
     "traceback": [
      "\u001b[0;31m---------------------------------------------------------------------------\u001b[0m",
      "\u001b[0;31mAttributeError\u001b[0m                            Traceback (most recent call last)",
      "\u001b[0;32m<ipython-input-42-35d9dbd1f0ce>\u001b[0m in \u001b[0;36m<module>\u001b[0;34m\u001b[0m\n\u001b[1;32m      5\u001b[0m \u001b[0;34m\u001b[0m\u001b[0m\n\u001b[1;32m      6\u001b[0m     \u001b[0my_hat\u001b[0m \u001b[0;34m=\u001b[0m \u001b[0mmodel\u001b[0m\u001b[0;34m(\u001b[0m\u001b[0mx\u001b[0m\u001b[0;34m)\u001b[0m\u001b[0;34m\u001b[0m\u001b[0;34m\u001b[0m\u001b[0m\n\u001b[0;32m----> 7\u001b[0;31m     \u001b[0mloss\u001b[0m \u001b[0;34m=\u001b[0m \u001b[0mcriterion\u001b[0m\u001b[0;34m(\u001b[0m\u001b[0my_hat\u001b[0m\u001b[0;34m,\u001b[0m\u001b[0my\u001b[0m\u001b[0;34m)\u001b[0m\u001b[0;34m\u001b[0m\u001b[0;34m\u001b[0m\u001b[0m\n\u001b[0m\u001b[1;32m      8\u001b[0m \u001b[0;34m\u001b[0m\u001b[0m\n\u001b[1;32m      9\u001b[0m     \u001b[0mloss\u001b[0m\u001b[0;34m.\u001b[0m\u001b[0mbackward\u001b[0m\u001b[0;34m(\u001b[0m\u001b[0;34m)\u001b[0m\u001b[0;34m\u001b[0m\u001b[0;34m\u001b[0m\u001b[0m\n",
      "\u001b[0;32m~/opt/anaconda3/lib/python3.8/site-packages/torch/nn/modules/module.py\u001b[0m in \u001b[0;36m_call_impl\u001b[0;34m(self, *input, **kwargs)\u001b[0m\n\u001b[1;32m   1128\u001b[0m         if not (self._backward_hooks or self._forward_hooks or self._forward_pre_hooks or _global_backward_hooks\n\u001b[1;32m   1129\u001b[0m                 or _global_forward_hooks or _global_forward_pre_hooks):\n\u001b[0;32m-> 1130\u001b[0;31m             \u001b[0;32mreturn\u001b[0m \u001b[0mforward_call\u001b[0m\u001b[0;34m(\u001b[0m\u001b[0;34m*\u001b[0m\u001b[0minput\u001b[0m\u001b[0;34m,\u001b[0m \u001b[0;34m**\u001b[0m\u001b[0mkwargs\u001b[0m\u001b[0;34m)\u001b[0m\u001b[0;34m\u001b[0m\u001b[0;34m\u001b[0m\u001b[0m\n\u001b[0m\u001b[1;32m   1131\u001b[0m         \u001b[0;31m# Do not call functions when jit is used\u001b[0m\u001b[0;34m\u001b[0m\u001b[0;34m\u001b[0m\u001b[0;34m\u001b[0m\u001b[0m\n\u001b[1;32m   1132\u001b[0m         \u001b[0mfull_backward_hooks\u001b[0m\u001b[0;34m,\u001b[0m \u001b[0mnon_full_backward_hooks\u001b[0m \u001b[0;34m=\u001b[0m \u001b[0;34m[\u001b[0m\u001b[0;34m]\u001b[0m\u001b[0;34m,\u001b[0m \u001b[0;34m[\u001b[0m\u001b[0;34m]\u001b[0m\u001b[0;34m\u001b[0m\u001b[0;34m\u001b[0m\u001b[0m\n",
      "\u001b[0;32m~/opt/anaconda3/lib/python3.8/site-packages/torch/nn/modules/loss.py\u001b[0m in \u001b[0;36mforward\u001b[0;34m(self, input, target)\u001b[0m\n\u001b[1;32m    528\u001b[0m \u001b[0;34m\u001b[0m\u001b[0m\n\u001b[1;32m    529\u001b[0m     \u001b[0;32mdef\u001b[0m \u001b[0mforward\u001b[0m\u001b[0;34m(\u001b[0m\u001b[0mself\u001b[0m\u001b[0;34m,\u001b[0m \u001b[0minput\u001b[0m\u001b[0;34m:\u001b[0m \u001b[0mTensor\u001b[0m\u001b[0;34m,\u001b[0m \u001b[0mtarget\u001b[0m\u001b[0;34m:\u001b[0m \u001b[0mTensor\u001b[0m\u001b[0;34m)\u001b[0m \u001b[0;34m->\u001b[0m \u001b[0mTensor\u001b[0m\u001b[0;34m:\u001b[0m\u001b[0;34m\u001b[0m\u001b[0;34m\u001b[0m\u001b[0m\n\u001b[0;32m--> 530\u001b[0;31m         \u001b[0;32mreturn\u001b[0m \u001b[0mF\u001b[0m\u001b[0;34m.\u001b[0m\u001b[0mmse_loss\u001b[0m\u001b[0;34m(\u001b[0m\u001b[0minput\u001b[0m\u001b[0;34m,\u001b[0m \u001b[0mtarget\u001b[0m\u001b[0;34m,\u001b[0m \u001b[0mreduction\u001b[0m\u001b[0;34m=\u001b[0m\u001b[0mself\u001b[0m\u001b[0;34m.\u001b[0m\u001b[0mreduction\u001b[0m\u001b[0;34m)\u001b[0m\u001b[0;34m\u001b[0m\u001b[0;34m\u001b[0m\u001b[0m\n\u001b[0m\u001b[1;32m    531\u001b[0m \u001b[0;34m\u001b[0m\u001b[0m\n\u001b[1;32m    532\u001b[0m \u001b[0;34m\u001b[0m\u001b[0m\n",
      "\u001b[0;32m~/opt/anaconda3/lib/python3.8/site-packages/torch/nn/functional.py\u001b[0m in \u001b[0;36mmse_loss\u001b[0;34m(input, target, size_average, reduce, reduction)\u001b[0m\n\u001b[1;32m   3267\u001b[0m             \u001b[0mmse_loss\u001b[0m\u001b[0;34m,\u001b[0m \u001b[0;34m(\u001b[0m\u001b[0minput\u001b[0m\u001b[0;34m,\u001b[0m \u001b[0mtarget\u001b[0m\u001b[0;34m)\u001b[0m\u001b[0;34m,\u001b[0m \u001b[0minput\u001b[0m\u001b[0;34m,\u001b[0m \u001b[0mtarget\u001b[0m\u001b[0;34m,\u001b[0m \u001b[0msize_average\u001b[0m\u001b[0;34m=\u001b[0m\u001b[0msize_average\u001b[0m\u001b[0;34m,\u001b[0m \u001b[0mreduce\u001b[0m\u001b[0;34m=\u001b[0m\u001b[0mreduce\u001b[0m\u001b[0;34m,\u001b[0m \u001b[0mreduction\u001b[0m\u001b[0;34m=\u001b[0m\u001b[0mreduction\u001b[0m\u001b[0;34m\u001b[0m\u001b[0;34m\u001b[0m\u001b[0m\n\u001b[1;32m   3268\u001b[0m         )\n\u001b[0;32m-> 3269\u001b[0;31m     \u001b[0;32mif\u001b[0m \u001b[0;32mnot\u001b[0m \u001b[0;34m(\u001b[0m\u001b[0mtarget\u001b[0m\u001b[0;34m.\u001b[0m\u001b[0msize\u001b[0m\u001b[0;34m(\u001b[0m\u001b[0;34m)\u001b[0m \u001b[0;34m==\u001b[0m \u001b[0minput\u001b[0m\u001b[0;34m.\u001b[0m\u001b[0msize\u001b[0m\u001b[0;34m(\u001b[0m\u001b[0;34m)\u001b[0m\u001b[0;34m)\u001b[0m\u001b[0;34m:\u001b[0m\u001b[0;34m\u001b[0m\u001b[0;34m\u001b[0m\u001b[0m\n\u001b[0m\u001b[1;32m   3270\u001b[0m         warnings.warn(\n\u001b[1;32m   3271\u001b[0m             \u001b[0;34m\"Using a target size ({}) that is different to the input size ({}). \"\u001b[0m\u001b[0;34m\u001b[0m\u001b[0;34m\u001b[0m\u001b[0m\n",
      "\u001b[0;31mAttributeError\u001b[0m: 'NoneType' object has no attribute 'size'"
     ]
    }
   ],
   "source": [
    "loss_stack = [] \n",
    "for epoch in range(1001):\n",
    "    \n",
    "    optimizer.zero_grad()#optimizer초기화\n",
    "    \n",
    "    y_hat = model(x)\n",
    "    loss = criterion(y_hat,y)\n",
    "    \n",
    "    loss.backward() \n",
    "    optimizer.step() #최적화 진행\n",
    "    loss_stack.append(loss.item()) #손실함수값을 loss_stack에 하나씩 넣는다.\n",
    "    \n",
    "    if epoch & 100 ==0:\n",
    "        print(f'Epoch {epoch}:{loss.item()}')"
   ]
  },
  {
   "cell_type": "markdown",
   "id": "532b6698",
   "metadata": {},
   "source": [
    "## 집값 예측하기: MLP"
   ]
  },
  {
   "cell_type": "code",
   "execution_count": 44,
   "id": "f3ad208c",
   "metadata": {},
   "outputs": [],
   "source": [
    "import pandas as pd\n",
    "import numpy as np\n",
    "from sklearn.model_selection import train_test_split\n",
    "import torch\n",
    "from torch import nn,optim\n",
    "from torch.utils.data import DataLoader, Dataset\n",
    "import torch.nn.functional as F\n",
    "from sklearn.metrics import mean_squared_error\n",
    "import matplotlib.pyplot as plt"
   ]
  },
  {
   "cell_type": "code",
   "execution_count": 47,
   "id": "90d49d5e",
   "metadata": {},
   "outputs": [],
   "source": [
    "df = pd.read_csv('reg.csv',index_col=[0])"
   ]
  },
  {
   "cell_type": "code",
   "execution_count": 48,
   "id": "d8b3eb10",
   "metadata": {},
   "outputs": [
    {
     "data": {
      "text/html": [
       "<div>\n",
       "<style scoped>\n",
       "    .dataframe tbody tr th:only-of-type {\n",
       "        vertical-align: middle;\n",
       "    }\n",
       "\n",
       "    .dataframe tbody tr th {\n",
       "        vertical-align: top;\n",
       "    }\n",
       "\n",
       "    .dataframe thead th {\n",
       "        text-align: right;\n",
       "    }\n",
       "</style>\n",
       "<table border=\"1\" class=\"dataframe\">\n",
       "  <thead>\n",
       "    <tr style=\"text-align: right;\">\n",
       "      <th></th>\n",
       "      <th>x1</th>\n",
       "      <th>x2</th>\n",
       "      <th>x3</th>\n",
       "      <th>x4</th>\n",
       "      <th>x5</th>\n",
       "      <th>x6</th>\n",
       "      <th>x7</th>\n",
       "      <th>x8</th>\n",
       "      <th>x9</th>\n",
       "      <th>x10</th>\n",
       "      <th>x11</th>\n",
       "      <th>x12</th>\n",
       "      <th>x13</th>\n",
       "      <th>Price</th>\n",
       "    </tr>\n",
       "  </thead>\n",
       "  <tbody>\n",
       "    <tr>\n",
       "      <th>0</th>\n",
       "      <td>0.034633</td>\n",
       "      <td>0.206919</td>\n",
       "      <td>0.137057</td>\n",
       "      <td>0.540526</td>\n",
       "      <td>0.193941</td>\n",
       "      <td>0.699239</td>\n",
       "      <td>0.630532</td>\n",
       "      <td>0.239410</td>\n",
       "      <td>0.027375</td>\n",
       "      <td>0.209857</td>\n",
       "      <td>0.347609</td>\n",
       "      <td>0.996394</td>\n",
       "      <td>0.102644</td>\n",
       "      <td>0.422222</td>\n",
       "    </tr>\n",
       "    <tr>\n",
       "      <th>1</th>\n",
       "      <td>0.028920</td>\n",
       "      <td>0.014315</td>\n",
       "      <td>0.276113</td>\n",
       "      <td>0.255945</td>\n",
       "      <td>0.618886</td>\n",
       "      <td>0.555407</td>\n",
       "      <td>0.782263</td>\n",
       "      <td>0.482977</td>\n",
       "      <td>0.103031</td>\n",
       "      <td>0.106690</td>\n",
       "      <td>0.520776</td>\n",
       "      <td>0.996650</td>\n",
       "      <td>0.187120</td>\n",
       "      <td>0.368889</td>\n",
       "    </tr>\n",
       "    <tr>\n",
       "      <th>2</th>\n",
       "      <td>0.020627</td>\n",
       "      <td>0.033230</td>\n",
       "      <td>0.281116</td>\n",
       "      <td>0.525591</td>\n",
       "      <td>0.165269</td>\n",
       "      <td>0.624102</td>\n",
       "      <td>0.586005</td>\n",
       "      <td>0.272713</td>\n",
       "      <td>0.036010</td>\n",
       "      <td>0.106986</td>\n",
       "      <td>0.595301</td>\n",
       "      <td>0.983284</td>\n",
       "      <td>0.084079</td>\n",
       "      <td>0.660000</td>\n",
       "    </tr>\n",
       "    <tr>\n",
       "      <th>3</th>\n",
       "      <td>0.022749</td>\n",
       "      <td>0.033801</td>\n",
       "      <td>0.125044</td>\n",
       "      <td>0.263253</td>\n",
       "      <td>0.251509</td>\n",
       "      <td>0.658532</td>\n",
       "      <td>0.432160</td>\n",
       "      <td>0.344932</td>\n",
       "      <td>0.150018</td>\n",
       "      <td>0.068317</td>\n",
       "      <td>0.651297</td>\n",
       "      <td>0.989989</td>\n",
       "      <td>0.015990</td>\n",
       "      <td>0.631111</td>\n",
       "    </tr>\n",
       "    <tr>\n",
       "      <th>4</th>\n",
       "      <td>0.022148</td>\n",
       "      <td>0.029374</td>\n",
       "      <td>0.121057</td>\n",
       "      <td>0.521126</td>\n",
       "      <td>0.399670</td>\n",
       "      <td>0.448086</td>\n",
       "      <td>0.520158</td>\n",
       "      <td>0.495342</td>\n",
       "      <td>0.104383</td>\n",
       "      <td>0.069360</td>\n",
       "      <td>0.560116</td>\n",
       "      <td>0.998723</td>\n",
       "      <td>0.092782</td>\n",
       "      <td>0.693333</td>\n",
       "    </tr>\n",
       "  </tbody>\n",
       "</table>\n",
       "</div>"
      ],
      "text/plain": [
       "         x1        x2        x3        x4        x5        x6        x7  \\\n",
       "0  0.034633  0.206919  0.137057  0.540526  0.193941  0.699239  0.630532   \n",
       "1  0.028920  0.014315  0.276113  0.255945  0.618886  0.555407  0.782263   \n",
       "2  0.020627  0.033230  0.281116  0.525591  0.165269  0.624102  0.586005   \n",
       "3  0.022749  0.033801  0.125044  0.263253  0.251509  0.658532  0.432160   \n",
       "4  0.022148  0.029374  0.121057  0.521126  0.399670  0.448086  0.520158   \n",
       "\n",
       "         x8        x9       x10       x11       x12       x13     Price  \n",
       "0  0.239410  0.027375  0.209857  0.347609  0.996394  0.102644  0.422222  \n",
       "1  0.482977  0.103031  0.106690  0.520776  0.996650  0.187120  0.368889  \n",
       "2  0.272713  0.036010  0.106986  0.595301  0.983284  0.084079  0.660000  \n",
       "3  0.344932  0.150018  0.068317  0.651297  0.989989  0.015990  0.631111  \n",
       "4  0.495342  0.104383  0.069360  0.560116  0.998723  0.092782  0.693333  "
      ]
     },
     "execution_count": 48,
     "metadata": {},
     "output_type": "execute_result"
    }
   ],
   "source": [
    "df.head()"
   ]
  },
  {
   "cell_type": "code",
   "execution_count": 51,
   "id": "c5804fee",
   "metadata": {},
   "outputs": [],
   "source": [
    "X = df.drop('Price',axis=1).to_numpy()\n",
    "y = df['Price'].to_numpy().reshape(-1,1)"
   ]
  },
  {
   "cell_type": "code",
   "execution_count": 54,
   "id": "a22f76b4",
   "metadata": {},
   "outputs": [],
   "source": [
    "X_train, X_test, y_train, y_test = train_test_split(X,y,test_size=0.5)"
   ]
  },
  {
   "cell_type": "code",
   "execution_count": 78,
   "id": "84c1e1f6",
   "metadata": {},
   "outputs": [],
   "source": [
    "#텐서 데이터 만들기\n",
    "class TensorData(Dataset):\n",
    "    \n",
    "    def __init__(self,x_data,y_data):\n",
    "        self.x_data = torch.FloatTensor(x_data)\n",
    "        self.y_data = torch.FloatTensor(y_data)\n",
    "        self.len = self.y_data.shape[0]\n",
    "        \n",
    "    def __getitem__(self,index):\n",
    "        return self.x_data[index],self.y_data[index]\n",
    "    \n",
    "    def __len__(self):\n",
    "        return self.len"
   ]
  },
  {
   "cell_type": "code",
   "execution_count": 80,
   "id": "89aa3de5",
   "metadata": {},
   "outputs": [],
   "source": [
    "trainsets = TensorData(X_train,y_train)\n",
    "trainloader = torch.utils.data.DataLoader(trainsets,batch_size=32,shuffle=True)\n",
    "testsets = TensorData(X_test,y_test)\n",
    "testloader = torch.utils.data.DataLoader(testsets,batch_size=32,shuffle=False)\n",
    "#dataloader: 미니배치로 자름"
   ]
  },
  {
   "cell_type": "code",
   "execution_count": 84,
   "id": "55ef4321",
   "metadata": {},
   "outputs": [],
   "source": [
    "#모델 구축하기: regressor 입력층1개, 은닉층2개, 출력층1개, 입령층노드 13개, 출력층노드 1개\n",
    "#은닉층은 50개, 30개 노드 갖는다 한다.\n",
    "\n",
    "class Regressor(nn.Module):\n",
    "    def __init__(self):\n",
    "        super().__init__()\n",
    "        self.fc1 = nn.Linear(13,50,bias = True) #입력층 13 >> 은닉층1(50)으로 가는 연산\n",
    "        self.fc2 = nn.Linear(50,30,bias = True)\n",
    "        self.fc3 = nn.Linear(30,1,bias = True)\n",
    "        self.dropout = nn.Dropout(0.5) #과적합 방지\n",
    "        \n",
    "    def forward(self,x):\n",
    "        x = F.relu(self.fc1(x))\n",
    "        x = self.dropout(F.relu(self.fc2(x)))\n",
    "        x = F.relu(self.fc3(x))\n",
    "        \n",
    "        return x"
   ]
  },
  {
   "cell_type": "code",
   "execution_count": 85,
   "id": "f9da0024",
   "metadata": {},
   "outputs": [],
   "source": [
    "#모델 학습하기\n",
    "model = Regressor()\n",
    "criterion = nn.MSELoss()\n",
    "optimizer = optim.Adam(model.parameters(),lr=0.001,weight_decay = 1e-7)"
   ]
  },
  {
   "cell_type": "code",
   "execution_count": 88,
   "id": "cf9c9a65",
   "metadata": {},
   "outputs": [],
   "source": [
    "loss_ = []\n",
    "n = len(trainloader)\n",
    "for epoch in range(400): #\n",
    "    running_loss = 0.0 #초기값 0\n",
    "    for data in trainloader: #배치 불러와 학습\n",
    "        inputs, values = data\n",
    "        optimizer.zero_grad()\n",
    "        outputs = model(inputs)\n",
    "        loss = criterion(outputs,values)\n",
    "        loss.backward()\n",
    "        optimizer.step()\n",
    "        running_loss += loss.item()\n",
    "        \n",
    "    loss_.append(running_loss/n)"
   ]
  },
  {
   "cell_type": "code",
   "execution_count": 90,
   "id": "a18c95a7",
   "metadata": {},
   "outputs": [
    {
     "data": {
      "image/png": "[encoded data removed]",
      "text/plain": [
       "<Figure size 432x288 with 1 Axes>"
      ]
     },
     "metadata": {
      "needs_background": "light"
     },
     "output_type": "display_data"
    }
   ],
   "source": [
    "#손실함수값 그려보자\n",
    "plt.plot(loss_)\n",
    "plt.title('Training Loss')\n",
    "plt.xlabel('epoch')\n",
    "plt.show()"
   ]
  },
  {
   "cell_type": "code",
   "execution_count": 95,
   "id": "ef7b5e8d",
   "metadata": {},
   "outputs": [],
   "source": [
    "def evaluation(dataloader):\n",
    "    \n",
    "    predictions = torch.tensor([], dtype=torch.float) # 예측값을 저장하는 텐서\n",
    "    actual = torch.tensor([], dtype=torch.float) # 실제값을 저장하는 텐서\n",
    "        \n",
    "    with torch.no_grad():\n",
    "        model.eval() # 평가를 할 때에는 .eval() 반드시 사용해야 한다.\n",
    "        for data in dataloader:\n",
    "            inputs, values = data\n",
    "            outputs = model(inputs)\n",
    "\n",
    "            predictions = torch.cat((predictions, outputs), 0) # cat을 통해 예측값을 누적\n",
    "            actual = torch.cat((actual, values), 0) # cat을 통해 실제값을 누적\n",
    "    \n",
    "    predictions = predictions.numpy() # 넘파이 배열로 변경\n",
    "    actual = actual.numpy() # 넘파이 배열로 변경\n",
    "    rmse = np.sqrt(mean_squared_error(predictions, actual)) # sklearn을 이용하여 RMSE 계산\n",
    "    \n",
    "    return rmse  "
   ]
  },
  {
   "cell_type": "code",
   "execution_count": 96,
   "id": "cf64ccc4",
   "metadata": {},
   "outputs": [
    {
     "name": "stdout",
     "output_type": "stream",
     "text": [
      "train RMSEL 0.059102874\n",
      "test RMSE: 0.116942436\n"
     ]
    }
   ],
   "source": [
    "print('train RMSEL',evaluation(trainloader))\n",
    "print('test RMSE:', evaluation(testloader))"
   ]
  },
  {
   "cell_type": "code",
   "execution_count": 97,
   "id": "1bb22535",
   "metadata": {},
   "outputs": [],
   "source": [
    "#학습데이터에 과적합 되어있는 듯 하다. "
   ]
  },
  {
   "cell_type": "markdown",
   "id": "faaad9a6",
   "metadata": {},
   "source": [
    "## 모델 구조 및 가중치 확인"
   ]
  },
  {
   "cell_type": "code",
   "execution_count": 99,
   "id": "d55967de",
   "metadata": {},
   "outputs": [
    {
     "name": "stdout",
     "output_type": "stream",
     "text": [
      "Collecting torchsummary\n",
      "  Downloading torchsummary-1.5.1-py3-none-any.whl (2.8 kB)\n",
      "Installing collected packages: torchsummary\n",
      "Successfully installed torchsummary-1.5.1\n"
     ]
    }
   ],
   "source": [
    "!pip install torchsummary"
   ]
  },
  {
   "cell_type": "code",
   "execution_count": 100,
   "id": "235d7677",
   "metadata": {},
   "outputs": [],
   "source": [
    "from torchsummary import summary"
   ]
  },
  {
   "cell_type": "code",
   "execution_count": 101,
   "id": "2025c05c",
   "metadata": {},
   "outputs": [],
   "source": [
    "class Regressor(nn.Module):\n",
    "    def __init__(self):\n",
    "        super().__init__()\n",
    "        self.fc1 = nn.Linear(13,50,bias = True) #입력층 13 >> 은닉층1(50)으로 가는 연산\n",
    "        self.fc2 = nn.Linear(50,30,bias = True)\n",
    "        self.fc3 = nn.Linear(30,1,bias = True)\n",
    "        self.dropout = nn.Dropout(0.5) #과적합 방지\n",
    "        \n",
    "    def forward(self,x):\n",
    "        x = F.relu(self.fc1(x))\n",
    "        x = self.dropout(F.relu(self.fc2(x)))\n",
    "        x = F.relu(self.fc3(x))\n",
    "        \n",
    "        return x"
   ]
  },
  {
   "cell_type": "code",
   "execution_count": 103,
   "id": "00ff20fc",
   "metadata": {},
   "outputs": [
    {
     "name": "stdout",
     "output_type": "stream",
     "text": [
      "Regressor(\n",
      "  (fc1): Linear(in_features=13, out_features=50, bias=True)\n",
      "  (fc2): Linear(in_features=50, out_features=30, bias=True)\n",
      "  (fc3): Linear(in_features=30, out_features=1, bias=True)\n",
      "  (dropout): Dropout(p=0.5, inplace=False)\n",
      ")\n"
     ]
    }
   ],
   "source": [
    "model = Regressor()\n",
    "print(model)"
   ]
  },
  {
   "cell_type": "code",
   "execution_count": 104,
   "id": "a145b74a",
   "metadata": {},
   "outputs": [
    {
     "name": "stdout",
     "output_type": "stream",
     "text": [
      "torch.Size([50, 13])\n",
      "torch.Size([50])\n",
      "torch.Size([30, 50])\n",
      "torch.Size([30])\n",
      "torch.Size([1, 30])\n",
      "torch.Size([1])\n"
     ]
    }
   ],
   "source": [
    "#모델 변수\n",
    "for parameter in model.parameters():\n",
    "    print(parameter.size())"
   ]
  },
  {
   "cell_type": "code",
   "execution_count": 105,
   "id": "0a6e4cdf",
   "metadata": {},
   "outputs": [
    {
     "name": "stdout",
     "output_type": "stream",
     "text": [
      "fc1.weight torch.Size([50, 13])\n",
      "fc1.bias torch.Size([50])\n",
      "fc2.weight torch.Size([30, 50])\n",
      "fc2.bias torch.Size([30])\n",
      "fc3.weight torch.Size([1, 30])\n",
      "fc3.bias torch.Size([1])\n"
     ]
    }
   ],
   "source": [
    "#model.parameters()를 통해 정의된 순서대로 변수 얻을 수 있따. \n",
    "\n",
    "for name,param in model.named_parameters(): #model.named_parameters() 통해 변수명과 변수를 동시에 불러온다.\n",
    "    print(name,param.size())"
   ]
  },
  {
   "cell_type": "code",
   "execution_count": 106,
   "id": "05f82209",
   "metadata": {},
   "outputs": [
    {
     "name": "stdout",
     "output_type": "stream",
     "text": [
      "----------------------------------------------------------------\n",
      "        Layer (type)               Output Shape         Param #\n",
      "================================================================\n",
      "            Linear-1               [-1, 10, 50]             700\n",
      "            Linear-2               [-1, 10, 30]           1,530\n",
      "           Dropout-3               [-1, 10, 30]               0\n",
      "            Linear-4                [-1, 10, 1]              31\n",
      "================================================================\n",
      "Total params: 2,261\n",
      "Trainable params: 2,261\n",
      "Non-trainable params: 0\n",
      "----------------------------------------------------------------\n",
      "Input size (MB): 0.00\n",
      "Forward/backward pass size (MB): 0.01\n",
      "Params size (MB): 0.01\n",
      "Estimated Total Size (MB): 0.02\n",
      "----------------------------------------------------------------\n"
     ]
    }
   ],
   "source": [
    "summary(model,(10,13))"
   ]
  },
  {
   "cell_type": "code",
   "execution_count": null,
   "id": "3b7fa855",
   "metadata": {},
   "outputs": [],
   "source": []
  }
 ],
 "metadata": {
  "kernelspec": {
   "display_name": "Python 3",
   "language": "python",
   "name": "python3"
  },
  "language_info": {
   "codemirror_mode": {
    "name": "ipython",
    "version": 3
   },
   "file_extension": ".py",
   "mimetype": "text/x-python",
   "name": "python",
   "nbconvert_exporter": "python",
   "pygments_lexer": "ipython3",
   "version": "3.8.8"
  },
  "toc": {
   "base_numbering": 1,
   "nav_menu": {},
   "number_sections": true,
   "sideBar": true,
   "skip_h1_title": false,
   "title_cell": "Table of Contents",
   "title_sidebar": "Contents",
   "toc_cell": false,
   "toc_position": {},
   "toc_section_display": true,
   "toc_window_display": false
  }
 },
 "nbformat": 4,
 "nbformat_minor": 5
}
